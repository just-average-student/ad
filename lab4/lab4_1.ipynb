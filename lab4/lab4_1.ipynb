{
 "cells": [
  {
   "cell_type": "markdown",
   "metadata": {},
   "source": [
    "<h3>ФБ-21 Князян Кирило</h3>\n",
    "<h1><center><b> Лабораторна робота №4 рівень 1 </b></center></h1>\n",
    "<h2><center> Структури для роботи з великими обсягами даних в Python </center></h2>"
   ]
  },
  {
   "cell_type": "code",
   "execution_count": 1,
   "metadata": {},
   "outputs": [
    {
     "name": "stdout",
     "output_type": "stream",
     "text": [
      "Setup Complete\n"
     ]
    }
   ],
   "source": [
    "import pandas as pd\n",
    "import matplotlib.pyplot as plt\n",
    "import seaborn as sns\n",
    "import os\n",
    "import timeit\n",
    "import urllib.request\n",
    "import zipfile\n",
    "import numpy as np\n",
    "from datetime import datetime\n",
    "print(\"Setup Complete\")"
   ]
  },
  {
   "cell_type": "code",
   "execution_count": 2,
   "metadata": {},
   "outputs": [],
   "source": [
    "folder = 'lab4_data'\n",
    "if not os.path.exists(folder):\n",
    "    os.makedirs(folder)\n",
    "def download_and_unzip(url, folder, check_file=None):\n",
    "    if check_file and os.path.exists(check_file):\n",
    "        return\n",
    "    file_name = url.split('/')[-1]\n",
    "    urllib.request.urlretrieve(url, file_name)\n",
    "    with zipfile.ZipFile(file_name, 'r') as zip:\n",
    "        zip.extractall(folder)\n",
    "    os.remove(file_name)\n",
    "    return\n",
    "\n",
    "url = 'https://archive.ics.uci.edu/ml/machine-learning-databases/00235/household_power_consumption.zip'\n",
    "file = 'lab4_data/household_power_consumption.txt'\n",
    "download_and_unzip(url, folder, file)"
   ]
  },
  {
   "cell_type": "markdown",
   "metadata": {},
   "source": [
    "<h3><center> Pandas dataframe: </center></h3>"
   ]
  },
  {
   "cell_type": "code",
   "execution_count": 3,
   "metadata": {},
   "outputs": [
    {
     "name": "stdout",
     "output_type": "stream",
     "text": [
      "Час виконання: 1.7328797000009217 секунд\n",
      "Date                      object\n",
      "Time                      object\n",
      "Global_active_power      float64\n",
      "Global_reactive_power    float64\n",
      "Voltage                  float64\n",
      "Global_intensity         float64\n",
      "Sub_metering_1           float64\n",
      "Sub_metering_2           float64\n",
      "Sub_metering_3           float64\n",
      "dtype: object\n"
     ]
    }
   ],
   "source": [
    "start_time = timeit.default_timer()\n",
    "df = pd.read_csv(file, sep=';', na_values='?', low_memory=False)\n",
    "df.dropna(inplace=True)\n",
    "end_time = timeit.default_timer()\n",
    "total1 = end_time - start_time\n",
    "print(f\"Час виконання: {end_time - start_time} секунд\")\n",
    "print(df.dtypes)"
   ]
  },
  {
   "cell_type": "code",
   "execution_count": 4,
   "metadata": {},
   "outputs": [
    {
     "name": "stdout",
     "output_type": "stream",
     "text": [
      "Час виконання: 5.944018799993501 секунд\n"
     ]
    },
    {
     "data": {
      "text/html": [
       "<div>\n",
       "<style scoped>\n",
       "    .dataframe tbody tr th:only-of-type {\n",
       "        vertical-align: middle;\n",
       "    }\n",
       "\n",
       "    .dataframe tbody tr th {\n",
       "        vertical-align: top;\n",
       "    }\n",
       "\n",
       "    .dataframe thead th {\n",
       "        text-align: right;\n",
       "    }\n",
       "</style>\n",
       "<table border=\"1\" class=\"dataframe\">\n",
       "  <thead>\n",
       "    <tr style=\"text-align: right;\">\n",
       "      <th></th>\n",
       "      <th>Date</th>\n",
       "      <th>Time</th>\n",
       "      <th>Global_active_power</th>\n",
       "      <th>Global_reactive_power</th>\n",
       "      <th>Voltage</th>\n",
       "      <th>Global_intensity</th>\n",
       "      <th>Sub_metering_1</th>\n",
       "      <th>Sub_metering_2</th>\n",
       "      <th>Sub_metering_3</th>\n",
       "    </tr>\n",
       "  </thead>\n",
       "  <tbody>\n",
       "    <tr>\n",
       "      <th>0</th>\n",
       "      <td>2006-12-16</td>\n",
       "      <td>17:24:00</td>\n",
       "      <td>4.216</td>\n",
       "      <td>0.418</td>\n",
       "      <td>234.84</td>\n",
       "      <td>18.4</td>\n",
       "      <td>0.0</td>\n",
       "      <td>1.0</td>\n",
       "      <td>17.0</td>\n",
       "    </tr>\n",
       "    <tr>\n",
       "      <th>1</th>\n",
       "      <td>2006-12-16</td>\n",
       "      <td>17:25:00</td>\n",
       "      <td>5.360</td>\n",
       "      <td>0.436</td>\n",
       "      <td>233.63</td>\n",
       "      <td>23.0</td>\n",
       "      <td>0.0</td>\n",
       "      <td>1.0</td>\n",
       "      <td>16.0</td>\n",
       "    </tr>\n",
       "    <tr>\n",
       "      <th>2</th>\n",
       "      <td>2006-12-16</td>\n",
       "      <td>17:26:00</td>\n",
       "      <td>5.374</td>\n",
       "      <td>0.498</td>\n",
       "      <td>233.29</td>\n",
       "      <td>23.0</td>\n",
       "      <td>0.0</td>\n",
       "      <td>2.0</td>\n",
       "      <td>17.0</td>\n",
       "    </tr>\n",
       "    <tr>\n",
       "      <th>3</th>\n",
       "      <td>2006-12-16</td>\n",
       "      <td>17:27:00</td>\n",
       "      <td>5.388</td>\n",
       "      <td>0.502</td>\n",
       "      <td>233.74</td>\n",
       "      <td>23.0</td>\n",
       "      <td>0.0</td>\n",
       "      <td>1.0</td>\n",
       "      <td>17.0</td>\n",
       "    </tr>\n",
       "    <tr>\n",
       "      <th>4</th>\n",
       "      <td>2006-12-16</td>\n",
       "      <td>17:28:00</td>\n",
       "      <td>3.666</td>\n",
       "      <td>0.528</td>\n",
       "      <td>235.68</td>\n",
       "      <td>15.8</td>\n",
       "      <td>0.0</td>\n",
       "      <td>1.0</td>\n",
       "      <td>17.0</td>\n",
       "    </tr>\n",
       "  </tbody>\n",
       "</table>\n",
       "</div>"
      ],
      "text/plain": [
       "        Date      Time  Global_active_power  Global_reactive_power  Voltage  \\\n",
       "0 2006-12-16  17:24:00                4.216                  0.418   234.84   \n",
       "1 2006-12-16  17:25:00                5.360                  0.436   233.63   \n",
       "2 2006-12-16  17:26:00                5.374                  0.498   233.29   \n",
       "3 2006-12-16  17:27:00                5.388                  0.502   233.74   \n",
       "4 2006-12-16  17:28:00                3.666                  0.528   235.68   \n",
       "\n",
       "   Global_intensity  Sub_metering_1  Sub_metering_2  Sub_metering_3  \n",
       "0              18.4             0.0             1.0            17.0  \n",
       "1              23.0             0.0             1.0            16.0  \n",
       "2              23.0             0.0             2.0            17.0  \n",
       "3              23.0             0.0             1.0            17.0  \n",
       "4              15.8             0.0             1.0            17.0  "
      ]
     },
     "execution_count": 4,
     "metadata": {},
     "output_type": "execute_result"
    }
   ],
   "source": [
    "start_time = timeit.default_timer()\n",
    "df['Date'] = pd.to_datetime(df['Date'], format='%d/%m/%Y')\n",
    "df['Time'] = pd.to_datetime(df['Time'], format='%H:%M:%S').dt.time\n",
    "end_time = timeit.default_timer()\n",
    "total2 = end_time - start_time\n",
    "print(f\"Час виконання: {end_time - start_time} секунд\")\n",
    "df.head()"
   ]
  },
  {
   "cell_type": "markdown",
   "metadata": {},
   "source": [
    "1. Обрати всі домогосподарства, у яких загальна активна споживана потужність перевищує 5 кВт."
   ]
  },
  {
   "cell_type": "code",
   "execution_count": 5,
   "metadata": {},
   "outputs": [
    {
     "name": "stdout",
     "output_type": "stream",
     "text": [
      "Час виконання: 0.005528399997274391 секунд\n",
      "Кількість рядків: 17547\n"
     ]
    },
    {
     "data": {
      "text/html": [
       "<div>\n",
       "<style scoped>\n",
       "    .dataframe tbody tr th:only-of-type {\n",
       "        vertical-align: middle;\n",
       "    }\n",
       "\n",
       "    .dataframe tbody tr th {\n",
       "        vertical-align: top;\n",
       "    }\n",
       "\n",
       "    .dataframe thead th {\n",
       "        text-align: right;\n",
       "    }\n",
       "</style>\n",
       "<table border=\"1\" class=\"dataframe\">\n",
       "  <thead>\n",
       "    <tr style=\"text-align: right;\">\n",
       "      <th></th>\n",
       "      <th>Date</th>\n",
       "      <th>Time</th>\n",
       "      <th>Global_active_power</th>\n",
       "      <th>Global_reactive_power</th>\n",
       "      <th>Voltage</th>\n",
       "      <th>Global_intensity</th>\n",
       "      <th>Sub_metering_1</th>\n",
       "      <th>Sub_metering_2</th>\n",
       "      <th>Sub_metering_3</th>\n",
       "    </tr>\n",
       "  </thead>\n",
       "  <tbody>\n",
       "    <tr>\n",
       "      <th>1</th>\n",
       "      <td>2006-12-16</td>\n",
       "      <td>17:25:00</td>\n",
       "      <td>5.360</td>\n",
       "      <td>0.436</td>\n",
       "      <td>233.63</td>\n",
       "      <td>23.0</td>\n",
       "      <td>0.0</td>\n",
       "      <td>1.0</td>\n",
       "      <td>16.0</td>\n",
       "    </tr>\n",
       "    <tr>\n",
       "      <th>2</th>\n",
       "      <td>2006-12-16</td>\n",
       "      <td>17:26:00</td>\n",
       "      <td>5.374</td>\n",
       "      <td>0.498</td>\n",
       "      <td>233.29</td>\n",
       "      <td>23.0</td>\n",
       "      <td>0.0</td>\n",
       "      <td>2.0</td>\n",
       "      <td>17.0</td>\n",
       "    </tr>\n",
       "    <tr>\n",
       "      <th>3</th>\n",
       "      <td>2006-12-16</td>\n",
       "      <td>17:27:00</td>\n",
       "      <td>5.388</td>\n",
       "      <td>0.502</td>\n",
       "      <td>233.74</td>\n",
       "      <td>23.0</td>\n",
       "      <td>0.0</td>\n",
       "      <td>1.0</td>\n",
       "      <td>17.0</td>\n",
       "    </tr>\n",
       "    <tr>\n",
       "      <th>11</th>\n",
       "      <td>2006-12-16</td>\n",
       "      <td>17:35:00</td>\n",
       "      <td>5.412</td>\n",
       "      <td>0.470</td>\n",
       "      <td>232.78</td>\n",
       "      <td>23.2</td>\n",
       "      <td>0.0</td>\n",
       "      <td>1.0</td>\n",
       "      <td>17.0</td>\n",
       "    </tr>\n",
       "    <tr>\n",
       "      <th>12</th>\n",
       "      <td>2006-12-16</td>\n",
       "      <td>17:36:00</td>\n",
       "      <td>5.224</td>\n",
       "      <td>0.478</td>\n",
       "      <td>232.99</td>\n",
       "      <td>22.4</td>\n",
       "      <td>0.0</td>\n",
       "      <td>1.0</td>\n",
       "      <td>16.0</td>\n",
       "    </tr>\n",
       "  </tbody>\n",
       "</table>\n",
       "</div>"
      ],
      "text/plain": [
       "         Date      Time  Global_active_power  Global_reactive_power  Voltage  \\\n",
       "1  2006-12-16  17:25:00                5.360                  0.436   233.63   \n",
       "2  2006-12-16  17:26:00                5.374                  0.498   233.29   \n",
       "3  2006-12-16  17:27:00                5.388                  0.502   233.74   \n",
       "11 2006-12-16  17:35:00                5.412                  0.470   232.78   \n",
       "12 2006-12-16  17:36:00                5.224                  0.478   232.99   \n",
       "\n",
       "    Global_intensity  Sub_metering_1  Sub_metering_2  Sub_metering_3  \n",
       "1               23.0             0.0             1.0            16.0  \n",
       "2               23.0             0.0             2.0            17.0  \n",
       "3               23.0             0.0             1.0            17.0  \n",
       "11              23.2             0.0             1.0            17.0  \n",
       "12              22.4             0.0             1.0            16.0  "
      ]
     },
     "execution_count": 5,
     "metadata": {},
     "output_type": "execute_result"
    }
   ],
   "source": [
    "start_time = timeit.default_timer()\n",
    "high_power = df[df['Global_active_power'] > 5]\n",
    "end_time = timeit.default_timer()\n",
    "total3 = end_time - start_time\n",
    "print(f\"Час виконання: {end_time - start_time} секунд\")\n",
    "print(f\"Кількість рядків: {len(high_power)}\")\n",
    "high_power.head()"
   ]
  },
  {
   "cell_type": "markdown",
   "metadata": {},
   "source": [
    "2. Обрати всі домогосподарства, у яких вольтаж перевищую 235 В."
   ]
  },
  {
   "cell_type": "code",
   "execution_count": 6,
   "metadata": {},
   "outputs": [
    {
     "name": "stdout",
     "output_type": "stream",
     "text": [
      "Час виконання: 0.07624560000112979 секунд\n",
      "Кількість рядків: 1952491\n"
     ]
    },
    {
     "data": {
      "text/html": [
       "<div>\n",
       "<style scoped>\n",
       "    .dataframe tbody tr th:only-of-type {\n",
       "        vertical-align: middle;\n",
       "    }\n",
       "\n",
       "    .dataframe tbody tr th {\n",
       "        vertical-align: top;\n",
       "    }\n",
       "\n",
       "    .dataframe thead th {\n",
       "        text-align: right;\n",
       "    }\n",
       "</style>\n",
       "<table border=\"1\" class=\"dataframe\">\n",
       "  <thead>\n",
       "    <tr style=\"text-align: right;\">\n",
       "      <th></th>\n",
       "      <th>Date</th>\n",
       "      <th>Time</th>\n",
       "      <th>Global_active_power</th>\n",
       "      <th>Global_reactive_power</th>\n",
       "      <th>Voltage</th>\n",
       "      <th>Global_intensity</th>\n",
       "      <th>Sub_metering_1</th>\n",
       "      <th>Sub_metering_2</th>\n",
       "      <th>Sub_metering_3</th>\n",
       "    </tr>\n",
       "  </thead>\n",
       "  <tbody>\n",
       "    <tr>\n",
       "      <th>4</th>\n",
       "      <td>2006-12-16</td>\n",
       "      <td>17:28:00</td>\n",
       "      <td>3.666</td>\n",
       "      <td>0.528</td>\n",
       "      <td>235.68</td>\n",
       "      <td>15.8</td>\n",
       "      <td>0.0</td>\n",
       "      <td>1.0</td>\n",
       "      <td>17.0</td>\n",
       "    </tr>\n",
       "    <tr>\n",
       "      <th>5</th>\n",
       "      <td>2006-12-16</td>\n",
       "      <td>17:29:00</td>\n",
       "      <td>3.520</td>\n",
       "      <td>0.522</td>\n",
       "      <td>235.02</td>\n",
       "      <td>15.0</td>\n",
       "      <td>0.0</td>\n",
       "      <td>2.0</td>\n",
       "      <td>17.0</td>\n",
       "    </tr>\n",
       "    <tr>\n",
       "      <th>6</th>\n",
       "      <td>2006-12-16</td>\n",
       "      <td>17:30:00</td>\n",
       "      <td>3.702</td>\n",
       "      <td>0.520</td>\n",
       "      <td>235.09</td>\n",
       "      <td>15.8</td>\n",
       "      <td>0.0</td>\n",
       "      <td>1.0</td>\n",
       "      <td>17.0</td>\n",
       "    </tr>\n",
       "    <tr>\n",
       "      <th>7</th>\n",
       "      <td>2006-12-16</td>\n",
       "      <td>17:31:00</td>\n",
       "      <td>3.700</td>\n",
       "      <td>0.520</td>\n",
       "      <td>235.22</td>\n",
       "      <td>15.8</td>\n",
       "      <td>0.0</td>\n",
       "      <td>1.0</td>\n",
       "      <td>17.0</td>\n",
       "    </tr>\n",
       "    <tr>\n",
       "      <th>14</th>\n",
       "      <td>2006-12-16</td>\n",
       "      <td>17:38:00</td>\n",
       "      <td>4.054</td>\n",
       "      <td>0.422</td>\n",
       "      <td>235.24</td>\n",
       "      <td>17.6</td>\n",
       "      <td>0.0</td>\n",
       "      <td>1.0</td>\n",
       "      <td>17.0</td>\n",
       "    </tr>\n",
       "  </tbody>\n",
       "</table>\n",
       "</div>"
      ],
      "text/plain": [
       "         Date      Time  Global_active_power  Global_reactive_power  Voltage  \\\n",
       "4  2006-12-16  17:28:00                3.666                  0.528   235.68   \n",
       "5  2006-12-16  17:29:00                3.520                  0.522   235.02   \n",
       "6  2006-12-16  17:30:00                3.702                  0.520   235.09   \n",
       "7  2006-12-16  17:31:00                3.700                  0.520   235.22   \n",
       "14 2006-12-16  17:38:00                4.054                  0.422   235.24   \n",
       "\n",
       "    Global_intensity  Sub_metering_1  Sub_metering_2  Sub_metering_3  \n",
       "4               15.8             0.0             1.0            17.0  \n",
       "5               15.0             0.0             2.0            17.0  \n",
       "6               15.8             0.0             1.0            17.0  \n",
       "7               15.8             0.0             1.0            17.0  \n",
       "14              17.6             0.0             1.0            17.0  "
      ]
     },
     "execution_count": 6,
     "metadata": {},
     "output_type": "execute_result"
    }
   ],
   "source": [
    "start_time = timeit.default_timer()\n",
    "high_voltage = df[df['Voltage'] > 235]\n",
    "end_time = timeit.default_timer()\n",
    "total4 = end_time - start_time\n",
    "print(f\"Час виконання: {end_time - start_time} секунд\")\n",
    "print(f\"Кількість рядків: {len(high_voltage)}\")\n",
    "high_voltage.head()"
   ]
  },
  {
   "cell_type": "markdown",
   "metadata": {},
   "source": [
    "3. Обрати всі домогосподарства, у яких сила струму лежить в межах 19-20 А, для них виявити ті, у яких пральна машина та холодильних споживають більше, ніж бойлер та кондиціонер."
   ]
  },
  {
   "cell_type": "code",
   "execution_count": 7,
   "metadata": {},
   "outputs": [
    {
     "name": "stdout",
     "output_type": "stream",
     "text": [
      "Час виконання: 0.010871599995880388 секунд\n",
      "Кількість рядків: 2509\n"
     ]
    },
    {
     "data": {
      "text/html": [
       "<div>\n",
       "<style scoped>\n",
       "    .dataframe tbody tr th:only-of-type {\n",
       "        vertical-align: middle;\n",
       "    }\n",
       "\n",
       "    .dataframe tbody tr th {\n",
       "        vertical-align: top;\n",
       "    }\n",
       "\n",
       "    .dataframe thead th {\n",
       "        text-align: right;\n",
       "    }\n",
       "</style>\n",
       "<table border=\"1\" class=\"dataframe\">\n",
       "  <thead>\n",
       "    <tr style=\"text-align: right;\">\n",
       "      <th></th>\n",
       "      <th>Date</th>\n",
       "      <th>Time</th>\n",
       "      <th>Global_active_power</th>\n",
       "      <th>Global_reactive_power</th>\n",
       "      <th>Voltage</th>\n",
       "      <th>Global_intensity</th>\n",
       "      <th>Sub_metering_1</th>\n",
       "      <th>Sub_metering_2</th>\n",
       "      <th>Sub_metering_3</th>\n",
       "    </tr>\n",
       "  </thead>\n",
       "  <tbody>\n",
       "    <tr>\n",
       "      <th>45</th>\n",
       "      <td>2006-12-16</td>\n",
       "      <td>18:09:00</td>\n",
       "      <td>4.464</td>\n",
       "      <td>0.136</td>\n",
       "      <td>234.66</td>\n",
       "      <td>19.0</td>\n",
       "      <td>0.0</td>\n",
       "      <td>37.0</td>\n",
       "      <td>16.0</td>\n",
       "    </tr>\n",
       "    <tr>\n",
       "      <th>460</th>\n",
       "      <td>2006-12-17</td>\n",
       "      <td>01:04:00</td>\n",
       "      <td>4.582</td>\n",
       "      <td>0.258</td>\n",
       "      <td>238.08</td>\n",
       "      <td>19.6</td>\n",
       "      <td>0.0</td>\n",
       "      <td>13.0</td>\n",
       "      <td>0.0</td>\n",
       "    </tr>\n",
       "    <tr>\n",
       "      <th>464</th>\n",
       "      <td>2006-12-17</td>\n",
       "      <td>01:08:00</td>\n",
       "      <td>4.618</td>\n",
       "      <td>0.104</td>\n",
       "      <td>239.61</td>\n",
       "      <td>19.6</td>\n",
       "      <td>0.0</td>\n",
       "      <td>27.0</td>\n",
       "      <td>0.0</td>\n",
       "    </tr>\n",
       "    <tr>\n",
       "      <th>475</th>\n",
       "      <td>2006-12-17</td>\n",
       "      <td>01:19:00</td>\n",
       "      <td>4.636</td>\n",
       "      <td>0.140</td>\n",
       "      <td>237.37</td>\n",
       "      <td>19.4</td>\n",
       "      <td>0.0</td>\n",
       "      <td>36.0</td>\n",
       "      <td>0.0</td>\n",
       "    </tr>\n",
       "    <tr>\n",
       "      <th>476</th>\n",
       "      <td>2006-12-17</td>\n",
       "      <td>01:20:00</td>\n",
       "      <td>4.634</td>\n",
       "      <td>0.152</td>\n",
       "      <td>237.17</td>\n",
       "      <td>19.4</td>\n",
       "      <td>0.0</td>\n",
       "      <td>35.0</td>\n",
       "      <td>0.0</td>\n",
       "    </tr>\n",
       "  </tbody>\n",
       "</table>\n",
       "</div>"
      ],
      "text/plain": [
       "          Date      Time  Global_active_power  Global_reactive_power  Voltage  \\\n",
       "45  2006-12-16  18:09:00                4.464                  0.136   234.66   \n",
       "460 2006-12-17  01:04:00                4.582                  0.258   238.08   \n",
       "464 2006-12-17  01:08:00                4.618                  0.104   239.61   \n",
       "475 2006-12-17  01:19:00                4.636                  0.140   237.37   \n",
       "476 2006-12-17  01:20:00                4.634                  0.152   237.17   \n",
       "\n",
       "     Global_intensity  Sub_metering_1  Sub_metering_2  Sub_metering_3  \n",
       "45               19.0             0.0            37.0            16.0  \n",
       "460              19.6             0.0            13.0             0.0  \n",
       "464              19.6             0.0            27.0             0.0  \n",
       "475              19.4             0.0            36.0             0.0  \n",
       "476              19.4             0.0            35.0             0.0  "
      ]
     },
     "execution_count": 7,
     "metadata": {},
     "output_type": "execute_result"
    }
   ],
   "source": [
    "start_time = timeit.default_timer()\n",
    "intensity_range_sub_compare = df[(df['Global_intensity'] >= 19) & (df['Global_intensity'] <= 20) & (df['Sub_metering_2'] > df['Sub_metering_3'])]\n",
    "end_time = timeit.default_timer()\n",
    "total5 = end_time - start_time\n",
    "print(f\"Час виконання: {end_time - start_time} секунд\")\n",
    "print(f\"Кількість рядків: {len(intensity_range_sub_compare)}\")\n",
    "intensity_range_sub_compare.head()"
   ]
  },
  {
   "cell_type": "markdown",
   "metadata": {},
   "source": [
    "4. Обрати випадковим чином 500000 домогосподарств (без повторів елементів вибірки), для них обчислити середні величини усіх 3-х груп споживання електричної енергії."
   ]
  },
  {
   "cell_type": "code",
   "execution_count": 8,
   "metadata": {},
   "outputs": [
    {
     "name": "stdout",
     "output_type": "stream",
     "text": [
      "Час виконання: 0.25145139999949606 секунд\n"
     ]
    },
    {
     "data": {
      "text/plain": [
       "Sub_metering_1    1.124516\n",
       "Sub_metering_2    1.298212\n",
       "Sub_metering_3    6.446134\n",
       "dtype: float64"
      ]
     },
     "execution_count": 8,
     "metadata": {},
     "output_type": "execute_result"
    }
   ],
   "source": [
    "start_time = timeit.default_timer()\n",
    "random_df = df.sample(n=500000, replace=False)\n",
    "mean_values = random_df[['Sub_metering_1', 'Sub_metering_2', 'Sub_metering_3']].mean()\n",
    "end_time = timeit.default_timer()\n",
    "total6 = end_time - start_time\n",
    "print(f\"Час виконання: {end_time - start_time} секунд\")\n",
    "mean_values.head()"
   ]
  },
  {
   "cell_type": "markdown",
   "metadata": {},
   "source": [
    "5. Обрати ті домогосподарства, які після 18-00 споживають понад 6 кВт за хвилину в середньому, серед відібраних визначити ті, у яких основне споживання електроенергії у вказаний проміжок часу припадає на пральну машину, сушарку, холодильник та освітлення (група 2 є найбільшою), а потім обрати кожен третій результат із першої половини та кожен четвертий результат із другої половини."
   ]
  },
  {
   "cell_type": "code",
   "execution_count": 9,
   "metadata": {},
   "outputs": [
    {
     "name": "stdout",
     "output_type": "stream",
     "text": [
      "Час виконання: 0.08054519999859622 секунд\n",
      "Сумарний час виконання: 8.1015 секунд\n",
      "Кількість рядків: першої половини: 177, другої половини: 133\n"
     ]
    },
    {
     "data": {
      "text/html": [
       "<div>\n",
       "<style scoped>\n",
       "    .dataframe tbody tr th:only-of-type {\n",
       "        vertical-align: middle;\n",
       "    }\n",
       "\n",
       "    .dataframe tbody tr th {\n",
       "        vertical-align: top;\n",
       "    }\n",
       "\n",
       "    .dataframe thead th {\n",
       "        text-align: right;\n",
       "    }\n",
       "</style>\n",
       "<table border=\"1\" class=\"dataframe\">\n",
       "  <thead>\n",
       "    <tr style=\"text-align: right;\">\n",
       "      <th></th>\n",
       "      <th>Date</th>\n",
       "      <th>Time</th>\n",
       "      <th>Global_active_power</th>\n",
       "      <th>Global_reactive_power</th>\n",
       "      <th>Voltage</th>\n",
       "      <th>Global_intensity</th>\n",
       "      <th>Sub_metering_1</th>\n",
       "      <th>Sub_metering_2</th>\n",
       "      <th>Sub_metering_3</th>\n",
       "    </tr>\n",
       "  </thead>\n",
       "  <tbody>\n",
       "    <tr>\n",
       "      <th>41</th>\n",
       "      <td>2006-12-16</td>\n",
       "      <td>18:05:00</td>\n",
       "      <td>6.052</td>\n",
       "      <td>0.192</td>\n",
       "      <td>232.93</td>\n",
       "      <td>26.2</td>\n",
       "      <td>0.0</td>\n",
       "      <td>37.0</td>\n",
       "      <td>17.0</td>\n",
       "    </tr>\n",
       "    <tr>\n",
       "      <th>44</th>\n",
       "      <td>2006-12-16</td>\n",
       "      <td>18:08:00</td>\n",
       "      <td>6.308</td>\n",
       "      <td>0.116</td>\n",
       "      <td>232.25</td>\n",
       "      <td>27.0</td>\n",
       "      <td>0.0</td>\n",
       "      <td>36.0</td>\n",
       "      <td>17.0</td>\n",
       "    </tr>\n",
       "    <tr>\n",
       "      <th>17494</th>\n",
       "      <td>2006-12-28</td>\n",
       "      <td>20:58:00</td>\n",
       "      <td>6.386</td>\n",
       "      <td>0.374</td>\n",
       "      <td>236.63</td>\n",
       "      <td>27.0</td>\n",
       "      <td>1.0</td>\n",
       "      <td>36.0</td>\n",
       "      <td>17.0</td>\n",
       "    </tr>\n",
       "    <tr>\n",
       "      <th>17498</th>\n",
       "      <td>2006-12-28</td>\n",
       "      <td>21:02:00</td>\n",
       "      <td>8.088</td>\n",
       "      <td>0.262</td>\n",
       "      <td>235.50</td>\n",
       "      <td>34.4</td>\n",
       "      <td>1.0</td>\n",
       "      <td>72.0</td>\n",
       "      <td>17.0</td>\n",
       "    </tr>\n",
       "    <tr>\n",
       "      <th>17501</th>\n",
       "      <td>2006-12-28</td>\n",
       "      <td>21:05:00</td>\n",
       "      <td>7.230</td>\n",
       "      <td>0.152</td>\n",
       "      <td>235.22</td>\n",
       "      <td>30.6</td>\n",
       "      <td>1.0</td>\n",
       "      <td>73.0</td>\n",
       "      <td>17.0</td>\n",
       "    </tr>\n",
       "    <tr>\n",
       "      <th>...</th>\n",
       "      <td>...</td>\n",
       "      <td>...</td>\n",
       "      <td>...</td>\n",
       "      <td>...</td>\n",
       "      <td>...</td>\n",
       "      <td>...</td>\n",
       "      <td>...</td>\n",
       "      <td>...</td>\n",
       "      <td>...</td>\n",
       "    </tr>\n",
       "    <tr>\n",
       "      <th>2066467</th>\n",
       "      <td>2010-11-20</td>\n",
       "      <td>18:31:00</td>\n",
       "      <td>6.830</td>\n",
       "      <td>0.394</td>\n",
       "      <td>229.39</td>\n",
       "      <td>30.2</td>\n",
       "      <td>24.0</td>\n",
       "      <td>34.0</td>\n",
       "      <td>16.0</td>\n",
       "    </tr>\n",
       "    <tr>\n",
       "      <th>2066471</th>\n",
       "      <td>2010-11-20</td>\n",
       "      <td>18:35:00</td>\n",
       "      <td>6.784</td>\n",
       "      <td>0.364</td>\n",
       "      <td>228.38</td>\n",
       "      <td>30.0</td>\n",
       "      <td>21.0</td>\n",
       "      <td>35.0</td>\n",
       "      <td>16.0</td>\n",
       "    </tr>\n",
       "    <tr>\n",
       "      <th>2066475</th>\n",
       "      <td>2010-11-20</td>\n",
       "      <td>18:39:00</td>\n",
       "      <td>6.362</td>\n",
       "      <td>0.372</td>\n",
       "      <td>229.83</td>\n",
       "      <td>28.0</td>\n",
       "      <td>16.0</td>\n",
       "      <td>35.0</td>\n",
       "      <td>16.0</td>\n",
       "    </tr>\n",
       "    <tr>\n",
       "      <th>2066479</th>\n",
       "      <td>2010-11-20</td>\n",
       "      <td>18:43:00</td>\n",
       "      <td>6.324</td>\n",
       "      <td>0.376</td>\n",
       "      <td>229.93</td>\n",
       "      <td>27.8</td>\n",
       "      <td>14.0</td>\n",
       "      <td>35.0</td>\n",
       "      <td>17.0</td>\n",
       "    </tr>\n",
       "    <tr>\n",
       "      <th>2066485</th>\n",
       "      <td>2010-11-20</td>\n",
       "      <td>18:49:00</td>\n",
       "      <td>6.210</td>\n",
       "      <td>0.174</td>\n",
       "      <td>228.82</td>\n",
       "      <td>27.4</td>\n",
       "      <td>21.0</td>\n",
       "      <td>34.0</td>\n",
       "      <td>17.0</td>\n",
       "    </tr>\n",
       "  </tbody>\n",
       "</table>\n",
       "<p>310 rows × 9 columns</p>\n",
       "</div>"
      ],
      "text/plain": [
       "              Date      Time  Global_active_power  Global_reactive_power  \\\n",
       "41      2006-12-16  18:05:00                6.052                  0.192   \n",
       "44      2006-12-16  18:08:00                6.308                  0.116   \n",
       "17494   2006-12-28  20:58:00                6.386                  0.374   \n",
       "17498   2006-12-28  21:02:00                8.088                  0.262   \n",
       "17501   2006-12-28  21:05:00                7.230                  0.152   \n",
       "...            ...       ...                  ...                    ...   \n",
       "2066467 2010-11-20  18:31:00                6.830                  0.394   \n",
       "2066471 2010-11-20  18:35:00                6.784                  0.364   \n",
       "2066475 2010-11-20  18:39:00                6.362                  0.372   \n",
       "2066479 2010-11-20  18:43:00                6.324                  0.376   \n",
       "2066485 2010-11-20  18:49:00                6.210                  0.174   \n",
       "\n",
       "         Voltage  Global_intensity  Sub_metering_1  Sub_metering_2  \\\n",
       "41        232.93              26.2             0.0            37.0   \n",
       "44        232.25              27.0             0.0            36.0   \n",
       "17494     236.63              27.0             1.0            36.0   \n",
       "17498     235.50              34.4             1.0            72.0   \n",
       "17501     235.22              30.6             1.0            73.0   \n",
       "...          ...               ...             ...             ...   \n",
       "2066467   229.39              30.2            24.0            34.0   \n",
       "2066471   228.38              30.0            21.0            35.0   \n",
       "2066475   229.83              28.0            16.0            35.0   \n",
       "2066479   229.93              27.8            14.0            35.0   \n",
       "2066485   228.82              27.4            21.0            34.0   \n",
       "\n",
       "         Sub_metering_3  \n",
       "41                 17.0  \n",
       "44                 17.0  \n",
       "17494              17.0  \n",
       "17498              17.0  \n",
       "17501              17.0  \n",
       "...                 ...  \n",
       "2066467            16.0  \n",
       "2066471            16.0  \n",
       "2066475            16.0  \n",
       "2066479            17.0  \n",
       "2066485            17.0  \n",
       "\n",
       "[310 rows x 9 columns]"
      ]
     },
     "execution_count": 9,
     "metadata": {},
     "output_type": "execute_result"
    }
   ],
   "source": [
    "start_time = timeit.default_timer()\n",
    "evening_usage = df[(df['Time'] > datetime.strptime('18:00:00', '%H:%M:%S').time()) & (df['Global_active_power'] > 6)]\n",
    "group2_dominate = evening_usage[evening_usage['Sub_metering_2'] > evening_usage[['Sub_metering_1', 'Sub_metering_3']].max(axis=1)]\n",
    "first_half = group2_dominate.iloc[:len(group2_dominate)//2:3]\n",
    "second_half = group2_dominate.iloc[len(group2_dominate)//2::4]\n",
    "end_time = timeit.default_timer()\n",
    "total = total1 + total2 + total3 + total4 + total5 + total6 + end_time - start_time\n",
    "print(f\"Час виконання: {end_time - start_time} секунд\")\n",
    "print(f\"Сумарний час виконання: {total:.4f} секунд\")\n",
    "print(f\"Кількість рядків: першої половини: {len(first_half)}, другої половини: {len(second_half)}\")\n",
    "pd.concat([first_half, second_half]).head(len(first_half)+len(second_half))"
   ]
  },
  {
   "cell_type": "markdown",
   "metadata": {},
   "source": [
    "<h3><center> Numpy array: </center></h3>"
   ]
  },
  {
   "cell_type": "code",
   "execution_count": 10,
   "metadata": {},
   "outputs": [
    {
     "name": "stdout",
     "output_type": "stream",
     "text": [
      "Час виконання: 20.632706999997026 секунд\n",
      "[['16/12/2006' '17:24:00' 4.216 ... 0.0 1.0 17.0]\n",
      " ['16/12/2006' '17:25:00' 5.36 ... 0.0 1.0 16.0]\n",
      " ['16/12/2006' '17:26:00' 5.374 ... 0.0 2.0 17.0]\n",
      " ...\n",
      " ['26/11/2010' '21:00:00' 0.938 ... 0.0 0.0 0.0]\n",
      " ['26/11/2010' '21:01:00' 0.934 ... 0.0 0.0 0.0]\n",
      " ['26/11/2010' '21:02:00' 0.932 ... 0.0 0.0 0.0]]\n"
     ]
    }
   ],
   "source": [
    "start_time = timeit.default_timer()\n",
    "data = np.genfromtxt(file, delimiter=';', skip_header=1, dtype=str)\n",
    "mask = ~(np.any(data == '?', axis=1))\n",
    "data = data[mask]\n",
    "float_data = data[:,2:].astype(float)\n",
    "data = np.hstack([data[:, :2], float_data], dtype=object)\n",
    "end_time = timeit.default_timer()\n",
    "total_1 = end_time - start_time\n",
    "print(f\"Час виконання: {end_time - start_time} секунд\")\n",
    "print(data)"
   ]
  },
  {
   "cell_type": "markdown",
   "metadata": {},
   "source": [
    "1. Обрати всі домогосподарства, у яких загальна активна споживана потужність перевищує 5 кВт."
   ]
  },
  {
   "cell_type": "code",
   "execution_count": 11,
   "metadata": {},
   "outputs": [
    {
     "name": "stdout",
     "output_type": "stream",
     "text": [
      "Час виконання: 0.06199960000230931 секунд\n",
      "Кількість рядків: 17547\n",
      "[['16/12/2006' '17:25:00' 5.36 0.436 233.63 23.0 0.0 1.0 16.0]\n",
      " ['16/12/2006' '17:26:00' 5.374 0.498 233.29 23.0 0.0 2.0 17.0]\n",
      " ['16/12/2006' '17:27:00' 5.388 0.502 233.74 23.0 0.0 1.0 17.0]\n",
      " ['16/12/2006' '17:35:00' 5.412 0.47 232.78 23.2 0.0 1.0 17.0]\n",
      " ['16/12/2006' '17:36:00' 5.224 0.478 232.99 22.4 0.0 1.0 16.0]\n",
      " ['22/11/2010' '18:40:00' 5.408 0.15 231.5 23.6 48.0 0.0 0.0]\n",
      " ['22/11/2010' '18:41:00' 5.528 0.144 232.48 24.6 53.0 0.0 0.0]\n",
      " ['24/11/2010' '07:50:00' 5.172 0.05 235.18 22.0 0.0 38.0 17.0]\n",
      " ['24/11/2010' '07:51:00' 5.75 0.0 234.4 24.6 0.0 39.0 17.0]\n",
      " ['25/11/2010' '07:21:00' 5.074 0.24 238.55 21.4 1.0 2.0 18.0]]\n"
     ]
    }
   ],
   "source": [
    "start_time = timeit.default_timer()\n",
    "high_powern = data[data[:,2] > 5]\n",
    "end_time = timeit.default_timer()\n",
    "total_2 = end_time - start_time\n",
    "print(f\"Час виконання: {end_time - start_time} секунд\")\n",
    "print(f\"Кількість рядків: {len(high_powern)}\")\n",
    "print(np.concatenate((high_powern[:5], high_powern[-5:])))"
   ]
  },
  {
   "cell_type": "markdown",
   "metadata": {},
   "source": [
    "2. Обрати всі домогосподарства, у яких вольтаж перевищую 235 В."
   ]
  },
  {
   "cell_type": "code",
   "execution_count": 12,
   "metadata": {},
   "outputs": [
    {
     "name": "stdout",
     "output_type": "stream",
     "text": [
      "Час виконання: 0.15364569999655942 секунд\n",
      "Кількість рядків: 1952491\n",
      "[['16/12/2006' '17:28:00' 3.666 0.528 235.68 15.8 0.0 1.0 17.0]\n",
      " ['16/12/2006' '17:29:00' 3.52 0.522 235.02 15.0 0.0 2.0 17.0]\n",
      " ['16/12/2006' '17:30:00' 3.702 0.52 235.09 15.8 0.0 1.0 17.0]\n",
      " ['16/12/2006' '17:31:00' 3.7 0.52 235.22 15.8 0.0 1.0 17.0]\n",
      " ['16/12/2006' '17:38:00' 4.054 0.422 235.24 17.6 0.0 1.0 17.0]\n",
      " ['26/11/2010' '20:58:00' 0.946 0.0 240.43 4.0 0.0 0.0 0.0]\n",
      " ['26/11/2010' '20:59:00' 0.944 0.0 240.0 4.0 0.0 0.0 0.0]\n",
      " ['26/11/2010' '21:00:00' 0.938 0.0 239.82 3.8 0.0 0.0 0.0]\n",
      " ['26/11/2010' '21:01:00' 0.934 0.0 239.7 3.8 0.0 0.0 0.0]\n",
      " ['26/11/2010' '21:02:00' 0.932 0.0 239.55 3.8 0.0 0.0 0.0]]\n"
     ]
    }
   ],
   "source": [
    "start_time = timeit.default_timer()\n",
    "high_voltagen = data[data[:,4] > 235]\n",
    "end_time = timeit.default_timer()\n",
    "total_3 = end_time - start_time\n",
    "print(f\"Час виконання: {end_time - start_time} секунд\")\n",
    "print(f\"Кількість рядків: {len(high_voltagen)}\")\n",
    "print(np.concatenate((high_voltagen[:5], high_voltagen[-5:])))"
   ]
  },
  {
   "cell_type": "markdown",
   "metadata": {},
   "source": [
    "3. Обрати всі домогосподарства, у яких сила струму лежить в межах 19-20 А, для них виявити ті, у яких пральна машина та холодильних споживають більше, ніж бойлер та кондиціонер."
   ]
  },
  {
   "cell_type": "code",
   "execution_count": 13,
   "metadata": {},
   "outputs": [
    {
     "name": "stdout",
     "output_type": "stream",
     "text": [
      "Час виконання: 0.1407831999968039 секунд\n",
      "Кількість рядків: 2509\n",
      "[['16/12/2006' '18:09:00' 4.464 0.136 234.66 19.0 0.0 37.0 16.0]\n",
      " ['17/12/2006' '01:04:00' 4.582 0.258 238.08 19.6 0.0 13.0 0.0]\n",
      " ['17/12/2006' '01:08:00' 4.618 0.104 239.61 19.6 0.0 27.0 0.0]\n",
      " ['17/12/2006' '01:19:00' 4.636 0.14 237.37 19.4 0.0 36.0 0.0]\n",
      " ['17/12/2006' '01:20:00' 4.634 0.152 237.17 19.4 0.0 35.0 0.0]\n",
      " ['24/11/2010' '07:53:00' 4.666 0.0 235.72 19.8 0.0 39.0 17.0]\n",
      " ['24/11/2010' '07:54:00' 4.694 0.0 236.78 19.8 0.0 39.0 18.0]\n",
      " ['24/11/2010' '07:55:00' 4.602 0.0 237.08 19.4 0.0 40.0 17.0]\n",
      " ['24/11/2010' '07:56:00' 4.536 0.0 237.03 19.0 0.0 39.0 17.0]\n",
      " ['24/11/2010' '07:57:00' 4.626 0.0 236.78 19.4 0.0 39.0 17.0]]\n"
     ]
    }
   ],
   "source": [
    "start_time = timeit.default_timer()\n",
    "intensity_range_sub_comparen = data[(data[:,5] >= float(19)) & (data[:,5] <= float(20)) & (data[:,7] > data[:,8])]\n",
    "end_time = timeit.default_timer()\n",
    "total_4 = end_time - start_time\n",
    "print(f\"Час виконання: {end_time - start_time} секунд\")\n",
    "print(f\"Кількість рядків: {len(intensity_range_sub_comparen)}\")\n",
    "print(np.concatenate((intensity_range_sub_comparen[:5], intensity_range_sub_comparen[-5:])))"
   ]
  },
  {
   "cell_type": "markdown",
   "metadata": {},
   "source": [
    "4. Обрати випадковим чином 500000 домогосподарств (без повторів елементів вибірки), для них обчислити середні величини усіх 3-х груп споживання електричної енергії."
   ]
  },
  {
   "cell_type": "code",
   "execution_count": 14,
   "metadata": {},
   "outputs": [
    {
     "name": "stdout",
     "output_type": "stream",
     "text": [
      "Час виконання: 0.2878220999991754 секунд\n",
      "Sub_metering_1: 1.133222\n",
      "Sub_metering_2: 1.296294\n",
      "Sub_metering_3: 6.446936\n"
     ]
    }
   ],
   "source": [
    "start_time = timeit.default_timer()\n",
    "random = np.random.choice(data.shape[0], size=500000, replace=True)\n",
    "random_data = data[random]\n",
    "mean = np.mean(random_data[:,6:], axis=0)\n",
    "end_time = timeit.default_timer()\n",
    "total_5 = end_time - start_time\n",
    "print(f\"Час виконання: {end_time - start_time} секунд\")\n",
    "print(f\"Sub_metering_1: {mean[0]}\\nSub_metering_2: {mean[1]}\\nSub_metering_3: {mean[2]}\")"
   ]
  },
  {
   "cell_type": "markdown",
   "metadata": {},
   "source": [
    "5. Обрати ті домогосподарства, які після 18-00 споживають понад 6 кВт за хвилину в середньому, серед відібраних визначити ті, у яких основне споживання електроенергії у вказаний проміжок часу припадає на пральну машину, сушарку, холодильник та освітлення (група 2 є найбільшою), а потім обрати кожен третій результат із першої половини та кожен четвертий результат із другої половини."
   ]
  },
  {
   "cell_type": "code",
   "execution_count": 15,
   "metadata": {},
   "outputs": [
    {
     "name": "stdout",
     "output_type": "stream",
     "text": [
      "Час виконання: 0.2108823000016855 секунд\n",
      "Сумарний час виконання: 21.4878 секунд\n",
      "Кількість рядків: першої половини: 177, другої половини: 133\n",
      "[['16/12/2006' '18:05:00' 6.052 0.192 232.93 26.2 0.0 37.0 17.0]\n",
      " ['16/12/2006' '18:08:00' 6.308 0.116 232.25 27.0 0.0 36.0 17.0]\n",
      " ['28/12/2006' '20:58:00' 6.386 0.374 236.63 27.0 1.0 36.0 17.0]\n",
      " ['28/12/2006' '21:02:00' 8.088 0.262 235.5 34.4 1.0 72.0 17.0]\n",
      " ['28/12/2006' '21:05:00' 7.23 0.152 235.22 30.6 1.0 73.0 17.0]\n",
      " ['20/11/2010' '18:30:00' 6.62 0.314 229.0 29.2 18.0 34.0 16.0]\n",
      " ['20/11/2010' '18:34:00' 6.266 0.36 229.82 27.6 14.0 35.0 16.0]\n",
      " ['20/11/2010' '18:38:00' 6.302 0.376 229.65 27.8 15.0 34.0 17.0]\n",
      " ['20/11/2010' '18:42:00' 6.238 0.344 229.37 27.6 14.0 35.0 16.0]\n",
      " ['20/11/2010' '18:46:00' 6.438 0.308 229.26 28.4 13.0 39.0 16.0]]\n"
     ]
    }
   ],
   "source": [
    "start_time = timeit.default_timer()\n",
    "group2_dominate_evening = data[(data[:,1] > '18.00.00') & (data[:,2] > 6) & (data[:,7] > np.maximum(data[:,6], data[:,8]))]\n",
    "first_halfn = group2_dominate_evening[:len(group2_dominate_evening)//2:3]\n",
    "second_halfn = group2_dominate_evening[len(group2_dominate_evening)//2::4]\n",
    "end_time = timeit.default_timer()\n",
    "total_n = total_1 + total_2 + total_3 + total_4 + total_5 + end_time - start_time\n",
    "print(f\"Час виконання: {end_time - start_time} секунд\")\n",
    "print(f\"Сумарний час виконання: {total_n:.4f} секунд\")\n",
    "print(f\"Кількість рядків: першої половини: {len(first_halfn)}, другої половини: {len(second_halfn)}\")\n",
    "print(np.concatenate((first_halfn[:5], second_halfn[-5:])))"
   ]
  },
  {
   "cell_type": "code",
   "execution_count": 16,
   "metadata": {},
   "outputs": [
    {
     "name": "stdout",
     "output_type": "stream",
     "text": [
      "Сумарний час виконання з pandas dataframe: 8.102, з numpay array: 21.488\n"
     ]
    }
   ],
   "source": [
    "print(f\"Сумарний час виконання з pandas dataframe: {total:.3f}, з numpay array: {total_n:.3f}\")"
   ]
  }
 ],
 "metadata": {
  "kernelspec": {
   "display_name": "env",
   "language": "python",
   "name": "python3"
  },
  "language_info": {
   "codemirror_mode": {
    "name": "ipython",
    "version": 3
   },
   "file_extension": ".py",
   "mimetype": "text/x-python",
   "name": "python",
   "nbconvert_exporter": "python",
   "pygments_lexer": "ipython3",
   "version": "3.11.8"
  }
 },
 "nbformat": 4,
 "nbformat_minor": 2
}
