{
 "cells": [
  {
   "cell_type": "markdown",
   "id": "fb9b3c45-3a57-4bab-9bb6-d337ffebaf6f",
   "metadata": {},
   "source": [
    "<h3>ФБ-21 Князян Кирило</h3>\n",
    "<h1><center><b> Лабораторна робота №2 </b></center></h1>\n",
    "<h2><center> Наука про дані: підготовчий етап </center></h2>"
   ]
  },
  {
   "cell_type": "code",
   "execution_count": 13,
   "id": "30b020b1-aa10-4aef-946e-998ae234c5c0",
   "metadata": {},
   "outputs": [
    {
     "name": "stdout",
     "output_type": "stream",
     "text": [
      "Setup Complete\n"
     ]
    }
   ],
   "source": [
    "import pandas as pd\n",
    "import matplotlib.pyplot as plt\n",
    "import seaborn as sns\n",
    "import os\n",
    "import datetime\n",
    "import urllib.request\n",
    "print(\"Setup Complete\")"
   ]
  },
  {
   "cell_type": "raw",
   "id": "2f3d4021-fea4-4b06-b163-6fe76eec4a10",
   "metadata": {},
   "source": [
    "Для кожної із адміністративних одиниць України завантажити тестові структуровані файли..."
   ]
  },
  {
   "cell_type": "code",
   "execution_count": 14,
   "id": "6d4a3262-aecf-49d1-af3f-ad666f741d77",
   "metadata": {},
   "outputs": [],
   "source": [
    "if not os.path.exists('lab2_data'):\n",
    "    os.makedirs('lab2_data')\n",
    "def getting_data(i):\n",
    "    filename_pattern = f\"vhi_id_{i}\"\n",
    "    file_check = [el for el in os.listdir('lab2_data') if el.startswith(filename_pattern)]\n",
    "    if file_check:\n",
    "        return\n",
    "    url = f'https://www.star.nesdis.noaa.gov/smcd/emb/vci/VH/get_TS_admin.php?country=UKR&provinceID={i}&year1=1981&year2=2024&type=Mean'\n",
    "    vhi_url = urllib.request.urlopen(url)\n",
    "    now = datetime.datetime.now()\n",
    "    date_and_time = now.strftime(\"%d-%m-%Y-%H-%M-%S\")\n",
    "    filename = f'vhi_id_{i}_{date_and_time}.csv'\n",
    "    file_path = os.path.join('lab2_data', filename)\n",
    "    with open(file_path, 'wb') as out:\n",
    "        out.write(vhi_url.read())\n",
    "    return f\"File {file_path} downloaded\"\n",
    "for i in range(1, 28):\n",
    "    getting_data(i)"
   ]
  },
  {
   "cell_type": "markdown",
   "id": "57d4a486-ec8a-4ed5-bded-604e731bfc57",
   "metadata": {},
   "source": [
    "Зчитати завантажені текстові файли у фрейм..."
   ]
  },
  {
   "cell_type": "code",
   "execution_count": 15,
   "id": "5ae5ca9a-9f25-42a4-9c50-0dde01bf4c0c",
   "metadata": {},
   "outputs": [
    {
     "name": "stdout",
     "output_type": "stream",
     "text": [
      "       Year  Week    SMN     SMT    VCI    TCI    VHI  area\n",
      "0      1982     1  0.059  258.24  51.11  48.78  49.95    10\n",
      "1      1982     2  0.063  261.53  55.89  38.20  47.04    10\n",
      "2      1982     3  0.063  263.45  57.30  32.69  44.99    10\n",
      "3      1982     4  0.061  265.10  53.96  28.62  41.29    10\n",
      "4      1982     5  0.058  266.42  46.87  28.57  37.72    10\n",
      "...     ...   ...    ...     ...    ...    ...    ...   ...\n",
      "49445  2020    48  0.159  277.21  66.52  16.25  41.37     9\n",
      "49446  2020    49  0.150  275.06  65.68  19.44  42.55     9\n",
      "49447  2020    50  0.144  274.00  66.17  18.69  42.43     9\n",
      "49448  2020    51  0.138  272.73  66.79  19.59  43.19     9\n",
      "49449  2020    52  0.132  271.44  67.24  21.90  44.57     9\n",
      "\n",
      "[49450 rows x 8 columns]\n"
     ]
    }
   ],
   "source": [
    "def data_frame(path):\n",
    "    files = [el for el in os.listdir(path) if el.endswith('.csv')]\n",
    "    headers = ['Year', 'Week', 'SMN', 'SMT', 'VCI', 'TCI', 'VHI', 'empty']\n",
    "    dfs = []\n",
    "    for file in files:\n",
    "        file_path = os.path.join(path, file)\n",
    "        i = int(file.split('_')[2])\n",
    "        if i == 12 or i == 20:\n",
    "            continue\n",
    "        df = pd.read_csv(file_path, header = 1, names = headers)\n",
    "        df = df.drop(df.loc[df['VHI'] == -1].index)\n",
    "        df = df.drop('empty', axis=1)\n",
    "        df.at[0, 'Year'] = df.at[0, 'Year'][9:]\n",
    "        df = df.drop(df.index[-1])\n",
    "        df['Year'] = df['Year'].astype(int)\n",
    "        df['Week'] = df['Week'].astype(int)\n",
    "        df['area'] = i\n",
    "        dfs.append(df)\n",
    "    df_r = pd.concat(dfs).drop_duplicates().reset_index(drop=True)\n",
    "    return df_r\n",
    "df = data_frame('lab2_data')\n",
    "print(df)"
   ]
  },
  {
   "cell_type": "markdown",
   "id": "66b2e144-e74f-490e-b711-bf63625e0693",
   "metadata": {},
   "source": [
    "Реалізувати процедуру, яка змінить індекси областей..."
   ]
  },
  {
   "cell_type": "code",
   "execution_count": 16,
   "id": "94388081-176b-4a90-aa4d-bc3efd4aec09",
   "metadata": {},
   "outputs": [
    {
     "name": "stdout",
     "output_type": "stream",
     "text": [
      "       Year  Week    SMN     SMT    VCI    TCI    VHI  area\n",
      "0      1982     1  0.059  258.24  51.11  48.78  49.95    21\n",
      "1      1982     2  0.063  261.53  55.89  38.20  47.04    21\n",
      "2      1982     3  0.063  263.45  57.30  32.69  44.99    21\n",
      "3      1982     4  0.061  265.10  53.96  28.62  41.29    21\n",
      "4      1982     5  0.058  266.42  46.87  28.57  37.72    21\n",
      "...     ...   ...    ...     ...    ...    ...    ...   ...\n",
      "49445  2020    48  0.159  277.21  66.52  16.25  41.37    20\n",
      "49446  2020    49  0.150  275.06  65.68  19.44  42.55    20\n",
      "49447  2020    50  0.144  274.00  66.17  18.69  42.43    20\n",
      "49448  2020    51  0.138  272.73  66.79  19.59  43.19    20\n",
      "49449  2020    52  0.132  271.44  67.24  21.90  44.57    20\n",
      "\n",
      "[49450 rows x 8 columns]\n"
     ]
    }
   ],
   "source": [
    "province_indexes = {1: 22, 2: 24, 3: 23, 4: 25, 5: 3, 6: 4, 7: 8, 8: 19, 9: 20, 10: 21, 11: 9, 13: 10, 14: 11, 15: 12, 16: 13, 17: 14, 18: 15, 19: 16, 21: 17, 22: 18, 23: 6, 24: 1, 25: 2, 26: 7, 27: 5}\n",
    "df['area'].replace(province_indexes, inplace = True)\n",
    "print(df)"
   ]
  },
  {
   "cell_type": "markdown",
   "id": "410e78e2-2e4d-432c-9793-57134b8fae09",
   "metadata": {},
   "source": [
    "Ряд VHI для області за вказаний рік, пошук екстремумів (min та \n",
    "max;"
   ]
  },
  {
   "cell_type": "code",
   "execution_count": 5,
   "id": "6dafd894-ba4e-46b1-8a6f-0ed4f4a9f6ff",
   "metadata": {},
   "outputs": [
    {
     "name": "stdout",
     "output_type": "stream",
     "text": [
      "Data for province 5 in 2000:\n",
      " Week   VHI\n",
      "    1 27.46\n",
      "    2 30.88\n",
      "    3 33.00\n",
      "    4 36.72\n",
      "    5 39.12\n",
      "    6 40.34\n",
      "    7 39.48\n",
      "    8 39.81\n",
      "    9 42.53\n",
      "   10 44.97\n",
      "   11 45.46\n",
      "   12 47.78\n",
      "   13 49.41\n",
      "   14 51.16\n",
      "   15 53.47\n",
      "   16 57.49\n",
      "   17 62.69\n",
      "   18 66.30\n",
      "   19 66.20\n",
      "   20 64.55\n",
      "   21 60.24\n",
      "   22 55.93\n",
      "   23 52.18\n",
      "   24 49.62\n",
      "   25 48.66\n",
      "   26 46.97\n",
      "   27 45.74\n",
      "   28 46.53\n",
      "   29 50.22\n",
      "   30 53.37\n",
      "   31 53.90\n",
      "   32 54.14\n",
      "   33 53.88\n",
      "   34 53.31\n",
      "   35 55.92\n",
      "   36 58.65\n",
      "   37 60.19\n",
      "   38 61.07\n",
      "   39 58.87\n",
      "   40 51.27\n",
      "   41 45.46\n",
      "   42 41.35\n",
      "   43 40.10\n",
      "   44 36.37\n",
      "   45 34.88\n",
      "   46 35.76\n",
      "   47 37.61\n",
      "   48 39.92\n",
      "   49 42.05\n",
      "   50 43.06\n",
      "   51 43.44\n",
      "   52 40.43\n",
      "Min VHI value is: 27.46\n",
      "Max VHI value is: 66.3\n"
     ]
    }
   ],
   "source": [
    "def vhi_year(pro_index, year):\n",
    "    if pro_index not in range(1, 26):\n",
    "        return f\"There is no province with index: {pro_index}\"\n",
    "    elif not df['Year'].isin([year]).any():\n",
    "        return f\"There is no information for province with index: {pro_index} in {year}\"\n",
    "    print(f'Data for province {pro_index} in {year}:')\n",
    "    vhi_for_year = df[(df['area'] == pro_index) & (df['Year'] == year)][['Week', 'VHI']]\n",
    "    print(vhi_for_year.to_string(index=False))\n",
    "    min = vhi_for_year['VHI'].min()\n",
    "    max = vhi_for_year['VHI'].max()\n",
    "    print(f\"Min VHI value is: {min}\")\n",
    "    print(f\"Max VHI value is: {max}\")\n",
    "index = 5\n",
    "year = 2000\n",
    "vhi_year(index, year)"
   ]
  },
  {
   "cell_type": "markdown",
   "id": "c79b967d-f75f-4dd2-9362-ff6ec55b037b",
   "metadata": {},
   "source": [
    "Ряд VHI за вказаний діапазон років для вказаних областей"
   ]
  },
  {
   "cell_type": "code",
   "execution_count": 21,
   "id": "236993de-2ca2-409f-83b2-fc1cc778b195",
   "metadata": {
    "scrolled": true
   },
   "outputs": [
    {
     "name": "stdout",
     "output_type": "stream",
     "text": [
      "       Year    VHI  area\n",
      "4862   2000  43.87    10\n",
      "4863   2000  45.92    10\n",
      "4864   2000  44.66    10\n",
      "4865   2000  41.77    10\n",
      "4866   2000  41.42    10\n",
      "...     ...    ...   ...\n",
      "47467  2020  36.12    19\n",
      "47468  2020  37.49    19\n",
      "47469  2020  36.90    19\n",
      "47470  2020  38.88    19\n",
      "47471  2020  42.54    19\n",
      "\n",
      "[7504 rows x 3 columns]\n",
      "Year\n",
      "2000    43.620330\n",
      "2001    52.281099\n",
      "2002    50.399918\n",
      "2003    49.692129\n",
      "2004    61.808866\n",
      "2005    50.885098\n",
      "2006    48.183984\n",
      "2007    41.410742\n",
      "2008    48.409753\n",
      "2009    43.363077\n",
      "2010    46.323901\n",
      "2011    45.004835\n",
      "2012    40.608956\n",
      "2013    46.744698\n",
      "2014    47.136538\n",
      "2015    42.722473\n",
      "2016    50.091209\n",
      "2017    45.299670\n",
      "2018    44.487143\n",
      "2019    42.702033\n",
      "2020    42.270275\n",
      "Name: VHI, dtype: float64\n"
     ]
    }
   ],
   "source": [
    "def vhi_years(pro_indexes, start_year, end_year):\n",
    "    if any(i not in range(1, 26) for i in pro_indexes):\n",
    "        return f\"Incorrect province index or indexes, valid range from 1 to 25 inclusive\"\n",
    "    elif start_year > end_year:\n",
    "        return f\"Incorrect year range: {start_year}-{end_year}\"\n",
    "    vhi_for_years = df[(df['area'].isin(pro_indexes)) & (df['Year'] >= start_year) & (df['Year'] <= end_year)][['Year', 'VHI', 'area']]\n",
    "    return vhi_for_years\n",
    "indexes = [1, 4, 6, 7, 10, 19, 25]\n",
    "start_year = 2000\n",
    "end_year = 2020\n",
    "vhi_for_years = vhi_years(indexes, start_year, end_year)\n",
    "print(vhi_for_years)\n",
    "vhi_for_years = vhi_for_years.groupby('Year')['VHI'].mean()\n",
    "print(vhi_for_years)"
   ]
  },
  {
   "cell_type": "markdown",
   "id": "bdeb197c-1453-4b06-9264-bb7091bc1090",
   "metadata": {},
   "source": [
    "Виявити роки, протягом яких екстремальні посухи торкнулися \n",
    "більше вказаного відсотка областей по Україі... Аналогічно для помірних посухі"
   ]
  },
  {
   "cell_type": "code",
   "execution_count": 7,
   "id": "ac5e1c69-9bda-451a-ad0a-4e2cccdf440d",
   "metadata": {},
   "outputs": [
    {
     "name": "stdout",
     "output_type": "stream",
     "text": [
      "Amount of provinces with moderate drought in 2000: 25\n",
      "Amount of provinces with moderate drought in 2001: 10\n",
      "Amount of provinces with moderate drought in 2002: 12\n",
      "Amount of provinces with moderate drought in 2003: 13\n",
      "Amount of provinces with moderate drought in 2005: 7\n",
      "Amount of provinces with moderate drought in 2006: 12\n",
      "Amount of provinces with moderate drought in 2007: 15\n",
      "Amount of provinces with moderate drought in 2008: 15\n",
      "Amount of provinces with moderate drought in 2009: 14\n",
      "Amount of provinces with moderate drought in 2010: 13\n",
      "Amount of provinces with moderate drought in 2011: 16\n",
      "Amount of provinces with moderate drought in 2012: 12\n",
      "Amount of provinces with moderate drought in 2013: 16\n",
      "Amount of provinces with moderate drought in 2014: 11\n",
      "Amount of provinces with moderate drought in 2015: 23\n",
      "Amount of provinces with moderate drought in 2016: 15\n",
      "Amount of provinces with moderate drought in 2017: 11\n",
      "Amount of provinces with moderate drought in 2018: 15\n",
      "Amount of provinces with moderate drought in 2019: 24\n",
      "Amount of provinces with moderate drought in 2020: 16\n"
     ]
    }
   ],
   "source": [
    "def extreme_droughts(pro_percent, pro_indexes, start_year, end_year):\n",
    "    vhi_for_years = vhi_years(pro_indexes, start_year, end_year)\n",
    "    if isinstance(vhi_for_years, str):\n",
    "        return vhi_for_years\n",
    "    pro_amount = len(pro_indexes)\n",
    "    pro_amount_for_drougths = round(pro_amount*(pro_percent/100))\n",
    "    extreme_drought_years = {}\n",
    "    for year in range(start_year, end_year+1):\n",
    "        vhi_year = vhi_for_years[vhi_for_years['Year'] == year]\n",
    "        extreme_drought_areas = vhi_year[vhi_year['VHI'] < 15]['area'].nunique()\n",
    "        if extreme_drought_areas > pro_amount_for_drougths:\n",
    "            extreme_drought_years[year] = extreme_drought_areas\n",
    "    for year, amount in extreme_drought_years.items():\n",
    "        print(f\"Amount of provinces with extreme drought in {year}: {amount}\")\n",
    "\n",
    "def moderate_droughts(pro_percent, pro_indexes, start_year, end_year):\n",
    "    vhi_for_years = vhi_years(pro_indexes, start_year, end_year)\n",
    "    if isinstance(vhi_for_years, str):\n",
    "        return vhi_for_years\n",
    "    pro_amount = len(pro_indexes)\n",
    "    pro_amount_for_drougths = round(pro_amount*(pro_percent/100))\n",
    "    moderate_droughts_years = {}\n",
    "    for year in range(start_year, end_year+1):\n",
    "        vhi_year = vhi_for_years[vhi_for_years['Year'] == year]\n",
    "        moderate_drought_areas = vhi_year[vhi_year['VHI'] < 35]['area'].nunique()\n",
    "        if moderate_drought_areas > pro_amount_for_drougths:\n",
    "            moderate_droughts_years[year] = moderate_drought_areas\n",
    "    for year, amount in moderate_droughts_years.items():\n",
    "        print(f\"Amount of provinces with moderate drought in {year}: {amount}\")\n",
    "\n",
    "pro_percent = 20\n",
    "indexes = [i for i in range(1, 26)]\n",
    "start_year = 2000\n",
    "end_year = 2020\n",
    "extreme_droughts(pro_percent, indexes, start_year, end_year)\n",
    "moderate_droughts(pro_percent, indexes, start_year, end_year)"
   ]
  },
  {
   "cell_type": "code",
   "execution_count": null,
   "id": "fa712c47-f352-4f9f-9082-2a37da4943f9",
   "metadata": {},
   "outputs": [],
   "source": []
  }
 ],
 "metadata": {
  "kernelspec": {
   "display_name": "Python 3 (ipykernel)",
   "language": "python",
   "name": "python3"
  },
  "language_info": {
   "codemirror_mode": {
    "name": "ipython",
    "version": 3
   },
   "file_extension": ".py",
   "mimetype": "text/x-python",
   "name": "python",
   "nbconvert_exporter": "python",
   "pygments_lexer": "ipython3",
   "version": "3.11.7"
  }
 },
 "nbformat": 4,
 "nbformat_minor": 5
}
